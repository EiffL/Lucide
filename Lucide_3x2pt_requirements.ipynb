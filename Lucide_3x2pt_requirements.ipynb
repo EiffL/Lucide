{
  "nbformat": 4,
  "nbformat_minor": 0,
  "metadata": {
    "colab": {
      "name": "Lucide_3x2pt_requirements.ipynb",
      "provenance": [],
      "authorship_tag": "ABX9TyOIJCgLwS8aEIHH7MyTccpy",
      "include_colab_link": true
    },
    "kernelspec": {
      "name": "python3",
      "display_name": "Python 3"
    }
  },
  "cells": [
    {
      "cell_type": "markdown",
      "metadata": {
        "id": "view-in-github",
        "colab_type": "text"
      },
      "source": [
        "<a href=\"https://colab.research.google.com/github/EiffL/Lucide/blob/master/Lucide_3x2pt_requirements.ipynb\" target=\"_parent\"><img src=\"https://colab.research.google.com/assets/colab-badge.svg\" alt=\"Open In Colab\"/></a>"
      ]
    },
    {
      "cell_type": "markdown",
      "metadata": {
        "id": "NojgcmXaIezH",
        "colab_type": "text"
      },
      "source": [
        "# How precise do my 2pt functions need to be to fit Lucide requirements\n",
        "\n",
        "This notebook tries to answer the question of what might be the margin for error in computing the 2pt function, and I mean, just the computation of the 2pt function, if we want to fit within the error budget for Lucide LE3.\n",
        "\n",
        "We're going to use the public and open source [jax-cosmo](https://github.com/DifferentiableUniverseInitiative/jax_cosmo) package to answer that question.\n",
        "\n",
        "\n",
        "\n"
      ]
    },
    {
      "cell_type": "code",
      "metadata": {
        "id": "WA7fR51KIYlJ",
        "colab_type": "code",
        "colab": {
          "base_uri": "https://localhost:8080/",
          "height": 323
        },
        "outputId": "6bfcc224-f66a-4dc5-cdf5-d2b998b1fbaa"
      },
      "source": [
        "!pip install git+https://github.com/DifferentiableUniverseInitiative/jax_cosmo.git"
      ],
      "execution_count": 1,
      "outputs": [
        {
          "output_type": "stream",
          "text": [
            "Collecting git+https://github.com/DifferentiableUniverseInitiative/jax_cosmo.git\n",
            "  Cloning https://github.com/DifferentiableUniverseInitiative/jax_cosmo.git to /tmp/pip-req-build-ws7f4x9f\n",
            "  Running command git clone -q https://github.com/DifferentiableUniverseInitiative/jax_cosmo.git /tmp/pip-req-build-ws7f4x9f\n",
            "Requirement already satisfied: jax in /usr/local/lib/python3.6/dist-packages (from jax-cosmo==0.1rc5) (0.1.72)\n",
            "Requirement already satisfied: jaxlib in /usr/local/lib/python3.6/dist-packages (from jax-cosmo==0.1rc5) (0.1.51)\n",
            "Requirement already satisfied: absl-py in /usr/local/lib/python3.6/dist-packages (from jax->jax-cosmo==0.1rc5) (0.9.0)\n",
            "Requirement already satisfied: opt-einsum in /usr/local/lib/python3.6/dist-packages (from jax->jax-cosmo==0.1rc5) (3.2.1)\n",
            "Requirement already satisfied: numpy>=1.12 in /usr/local/lib/python3.6/dist-packages (from jax->jax-cosmo==0.1rc5) (1.18.5)\n",
            "Requirement already satisfied: scipy in /usr/local/lib/python3.6/dist-packages (from jaxlib->jax-cosmo==0.1rc5) (1.4.1)\n",
            "Requirement already satisfied: six in /usr/local/lib/python3.6/dist-packages (from absl-py->jax->jax-cosmo==0.1rc5) (1.12.0)\n",
            "Building wheels for collected packages: jax-cosmo\n",
            "  Building wheel for jax-cosmo (setup.py) ... \u001b[?25l\u001b[?25hdone\n",
            "  Created wheel for jax-cosmo: filename=jax_cosmo-0.1rc5-cp36-none-any.whl size=31373 sha256=d443d34ad2e2a451144ada4651aee304575d665fc94e84f1010c78596ea39a92\n",
            "  Stored in directory: /tmp/pip-ephem-wheel-cache-dzedx35t/wheels/88/09/bb/e8fa873bc98f4b1be20b586d836ec856fa676f1c8b1142ef06\n",
            "Successfully built jax-cosmo\n",
            "Installing collected packages: jax-cosmo\n",
            "Successfully installed jax-cosmo-0.1rc5\n"
          ],
          "name": "stdout"
        }
      ]
    },
    {
      "cell_type": "code",
      "metadata": {
        "id": "zunPiWDcJ-3A",
        "colab_type": "code",
        "colab": {
          "base_uri": "https://localhost:8080/",
          "height": 35
        },
        "outputId": "95b39888-0404-487c-bc02-5e4fa65843b7"
      },
      "source": [
        "%pylab inline\n",
        "import jax_cosmo as jc\n",
        "import jax.numpy as np\n",
        "import jax"
      ],
      "execution_count": 2,
      "outputs": [
        {
          "output_type": "stream",
          "text": [
            "Populating the interactive namespace from numpy and matplotlib\n"
          ],
          "name": "stdout"
        }
      ]
    },
    {
      "cell_type": "markdown",
      "metadata": {
        "id": "pN4HYoUIKA3e",
        "colab_type": "text"
      },
      "source": [
        "## Step I: define the probes\n",
        "\n",
        "We are working in the context of the Lucide survey, which makes the following assumptions (which I guess happen to be similar to [arxiv:2005.00055](https://arxiv.org/pdf/2005.00055.pdf))"
      ]
    },
    {
      "cell_type": "markdown",
      "metadata": {
        "id": "sOFu385OMMmt",
        "colab_type": "text"
      },
      "source": [
        "### Redshift distributions\n",
        "\n"
      ]
    },
    {
      "cell_type": "code",
      "metadata": {
        "id": "9L9_zLQNLOTY",
        "colab_type": "code",
        "colab": {}
      },
      "source": [
        "# Step a: degi\n",
        "nz = jc.redshift.smail_nz(2.0, 3./2., 0.9/np.sqrt(2), gals_per_arcmin2=30.)"
      ],
      "execution_count": null,
      "outputs": []
    },
    {
      "cell_type": "code",
      "metadata": {
        "id": "Xv6xXM1cLjwo",
        "colab_type": "code",
        "colab": {
          "base_uri": "https://localhost:8080/",
          "height": 283
        },
        "outputId": "73d05a26-d44f-4c31-d309-796c0ba14872"
      },
      "source": [
        "z = np.linspace(0,3,100);\n",
        "plot(z, nz(z))"
      ],
      "execution_count": null,
      "outputs": [
        {
          "output_type": "execute_result",
          "data": {
            "text/plain": [
              "[<matplotlib.lines.Line2D at 0x7f50272139e8>]"
            ]
          },
          "metadata": {
            "tags": []
          },
          "execution_count": 10
        },
        {
          "output_type": "display_data",
          "data": {
            "image/png": "[encoded data removed]",
            "text/plain": [
              "<Figure size 432x288 with 1 Axes>"
            ]
          },
          "metadata": {
            "tags": [],
            "needs_background": "light"
          }
        }
      ]
    },
    {
      "cell_type": "markdown",
      "metadata": {
        "id": "T1dHIAZaMP5p",
        "colab_type": "text"
      },
      "source": [
        "### Bias parameters\n",
        "\n",
        "TODO: Add bin-dependent bias parameters"
      ]
    },
    {
      "cell_type": "code",
      "metadata": {
        "id": "4eScc-cdL_7V",
        "colab_type": "code",
        "colab": {}
      },
      "source": [
        "bias = [jc.bias.constant_linear_bias(1.10)]"
      ],
      "execution_count": null,
      "outputs": []
    },
    {
      "cell_type": "markdown",
      "metadata": {
        "id": "I-0R2QlQNCcT",
        "colab_type": "text"
      },
      "source": [
        "### IA parameterisation\n",
        "\n",
        "TODO: Add lumonisity and redshift scaling of IA bias"
      ]
    },
    {
      "cell_type": "code",
      "metadata": {
        "id": "82U2szMmMzDb",
        "colab_type": "code",
        "colab": {}
      },
      "source": [
        "ia_bias = [jc.bias.constant_linear_bias(1.0)]"
      ],
      "execution_count": null,
      "outputs": []
    },
    {
      "cell_type": "markdown",
      "metadata": {
        "id": "YlhFhJZXNU70",
        "colab_type": "text"
      },
      "source": [
        "### Form the 2pt probes"
      ]
    },
    {
      "cell_type": "code",
      "metadata": {
        "id": "_ITzgFnTNTqi",
        "colab_type": "code",
        "colab": {}
      },
      "source": [
        "probes = [jc.probes.WeakLensing([nz], ia_bias=ia_bias),\n",
        "          jc.probes.NumberCounts([nz], bias)]"
      ],
      "execution_count": null,
      "outputs": []
    },
    {
      "cell_type": "markdown",
      "metadata": {
        "id": "5iVZ5HlANvpp",
        "colab_type": "text"
      },
      "source": [
        "## Step  II: Building the likelihood\n",
        "\n",
        "Now that we have defined some probes, we can build the likelihood function"
      ]
    },
    {
      "cell_type": "code",
      "metadata": {
        "id": "NmwrJy6tNuW3",
        "colab_type": "code",
        "colab": {}
      },
      "source": [
        "ell = np.logspace(1, np.log10(1500))\n",
        "\n",
        "def mu(params):\n",
        "  mu, cov = jc.angular_cl.gaussian_cl_covariance_and_mean(params, ell)\n",
        "\n",
        "  "
      ],
      "execution_count": null,
      "outputs": []
    }
  ]
}